{
  "nbformat": 4,
  "nbformat_minor": 0,
  "metadata": {
    "colab": {
      "name": "creditsuisse_spark_execise.ipynb",
      "provenance": [],
      "collapsed_sections": [],
      "authorship_tag": "ABX9TyMxf5BJ9vkiGw/+a5+ZWd9V",
      "include_colab_link": true
    },
    "kernelspec": {
      "name": "python3",
      "display_name": "Python 3"
    },
    "language_info": {
      "name": "python"
    }
  },
  "cells": [
    {
      "cell_type": "markdown",
      "metadata": {
        "id": "view-in-github",
        "colab_type": "text"
      },
      "source": [
        "<a href=\"https://colab.research.google.com/github/jofefer/jofefer/blob/main/creditsuisse_spark_execise.ipynb\" target=\"_parent\"><img src=\"https://colab.research.google.com/assets/colab-badge.svg\" alt=\"Open In Colab\"/></a>"
      ]
    },
    {
      "cell_type": "code",
      "execution_count": 1,
      "metadata": {
        "colab": {
          "base_uri": "https://localhost:8080/",
          "height": 0
        },
        "id": "j2ClYB7S4N7j",
        "outputId": "97c539b2-0192-40c3-b615-3479615800e3"
      },
      "outputs": [
        {
          "output_type": "stream",
          "name": "stdout",
          "text": [
            "Collecting py4j\n",
            "  Downloading py4j-0.10.9.3-py2.py3-none-any.whl (198 kB)\n",
            "\u001b[?25l\r\u001b[K     |█▋                              | 10 kB 18.3 MB/s eta 0:00:01\r\u001b[K     |███▎                            | 20 kB 22.5 MB/s eta 0:00:01\r\u001b[K     |█████                           | 30 kB 19.8 MB/s eta 0:00:01\r\u001b[K     |██████▋                         | 40 kB 13.3 MB/s eta 0:00:01\r\u001b[K     |████████▎                       | 51 kB 5.6 MB/s eta 0:00:01\r\u001b[K     |█████████▉                      | 61 kB 6.5 MB/s eta 0:00:01\r\u001b[K     |███████████▌                    | 71 kB 7.3 MB/s eta 0:00:01\r\u001b[K     |█████████████▏                  | 81 kB 7.8 MB/s eta 0:00:01\r\u001b[K     |██████████████▉                 | 92 kB 8.6 MB/s eta 0:00:01\r\u001b[K     |████████████████▌               | 102 kB 7.7 MB/s eta 0:00:01\r\u001b[K     |██████████████████▏             | 112 kB 7.7 MB/s eta 0:00:01\r\u001b[K     |███████████████████▊            | 122 kB 7.7 MB/s eta 0:00:01\r\u001b[K     |█████████████████████▍          | 133 kB 7.7 MB/s eta 0:00:01\r\u001b[K     |███████████████████████         | 143 kB 7.7 MB/s eta 0:00:01\r\u001b[K     |████████████████████████▊       | 153 kB 7.7 MB/s eta 0:00:01\r\u001b[K     |██████████████████████████▍     | 163 kB 7.7 MB/s eta 0:00:01\r\u001b[K     |████████████████████████████    | 174 kB 7.7 MB/s eta 0:00:01\r\u001b[K     |█████████████████████████████▋  | 184 kB 7.7 MB/s eta 0:00:01\r\u001b[K     |███████████████████████████████▎| 194 kB 7.7 MB/s eta 0:00:01\r\u001b[K     |████████████████████████████████| 198 kB 7.7 MB/s \n",
            "\u001b[?25hInstalling collected packages: py4j\n",
            "Successfully installed py4j-0.10.9.3\n",
            "--2022-02-26 07:44:42--  https://bin.equinox.io/c/4VmDzA7iaHb/ngrok-stable-linux-amd64.zip\n",
            "Resolving bin.equinox.io (bin.equinox.io)... 18.205.222.128, 54.161.241.46, 54.237.133.81, ...\n",
            "Connecting to bin.equinox.io (bin.equinox.io)|18.205.222.128|:443... connected.\n",
            "HTTP request sent, awaiting response... 200 OK\n",
            "Length: 13832437 (13M) [application/octet-stream]\n",
            "Saving to: ‘ngrok-stable-linux-amd64.zip’\n",
            "\n",
            "ngrok-stable-linux- 100%[===================>]  13.19M  3.34MB/s    in 4.9s    \n",
            "\n",
            "2022-02-26 07:44:48 (2.67 MB/s) - ‘ngrok-stable-linux-amd64.zip’ saved [13832437/13832437]\n",
            "\n",
            "Archive:  ngrok-stable-linux-amd64.zip\n",
            "  inflating: ngrok                   \n",
            "Collecting pyspark\n",
            "  Downloading pyspark-3.2.1.tar.gz (281.4 MB)\n",
            "\u001b[K     |████████████████████████████████| 281.4 MB 38 kB/s \n",
            "\u001b[?25hRequirement already satisfied: py4j==0.10.9.3 in /usr/local/lib/python3.7/dist-packages (from pyspark) (0.10.9.3)\n",
            "Building wheels for collected packages: pyspark\n",
            "  Building wheel for pyspark (setup.py) ... \u001b[?25l\u001b[?25hdone\n",
            "  Created wheel for pyspark: filename=pyspark-3.2.1-py2.py3-none-any.whl size=281853642 sha256=0512669715626ce110ee2f9f3c91f6014b63fb25a25e2d8257968068dda1f3bb\n",
            "  Stored in directory: /root/.cache/pip/wheels/9f/f5/07/7cd8017084dce4e93e84e92efd1e1d5334db05f2e83bcef74f\n",
            "Successfully built pyspark\n",
            "Installing collected packages: pyspark\n",
            "Successfully installed pyspark-3.2.1\n"
          ]
        }
      ],
      "source": [
        "!apt-get install openjdk-8-jdk-headless -qq > /dev/null\n",
        "!wget -q http://apache.uvigo.es/spark/spark-3.2.1/spark-3.2.1-bin-hadoop2.7.tgz\n",
        "!tar xf spark-3.2.1-bin-hadoop2.7.tgz\n",
        "!pip install -q findspark\n",
        "!pip install py4j\n",
        "!wget https://bin.equinox.io/c/4VmDzA7iaHb/ngrok-stable-linux-amd64.zip\n",
        "!unzip ngrok-stable-linux-amd64.zip\n",
        "\n",
        "\n",
        "\n",
        "# Importamos variables de entorno\n",
        "import os\n",
        "os.environ[\"JAVA_HOME\"] = \"/usr/lib/jvm/java-8-openjdk-amd64\"\n",
        "os.environ[\"SPARK_HOME\"] = \"/content/spark-3.2.1-bin-hadoop2.7\"\n",
        "\n",
        "!pip install pyspark"
      ]
    },
    {
      "cell_type": "code",
      "source": [
        ""
      ],
      "metadata": {
        "id": "4AG6v06q6Ncx"
      },
      "execution_count": 1,
      "outputs": []
    },
    {
      "cell_type": "code",
      "source": [
        "from pyspark.sql import SparkSession\n",
        "import findspark\n",
        "\n",
        "findspark.init(\"spark-3.2.1-bin-hadoop2.7\")\n"
      ],
      "metadata": {
        "id": "ZXJQkP1j4npg"
      },
      "execution_count": 117,
      "outputs": []
    },
    {
      "cell_type": "code",
      "source": [
        "from pyspark.sql import SparkSession\n",
        "\n",
        "spark = SparkSession.builder\\\n",
        "        .master(\"local\")\\\n",
        "        .appName(\"Colab\")\\\n",
        "        .config('spark.ui.port', '4050')\\\n",
        "        .getOrCreate()"
      ],
      "metadata": {
        "id": "0Ug7Ketu4reW"
      },
      "execution_count": 118,
      "outputs": []
    },
    {
      "cell_type": "code",
      "source": [
        "sc= spark.sparkContext"
      ],
      "metadata": {
        "id": "P5x3MhfX7fRB"
      },
      "execution_count": 119,
      "outputs": []
    },
    {
      "cell_type": "code",
      "source": [
        "df = spark.read.csv('fx_rate.csv',header=True, inferSchema=True)\n",
        "df.show()"
      ],
      "metadata": {
        "colab": {
          "base_uri": "https://localhost:8080/",
          "height": 0
        },
        "id": "4ttFIaN17sZ1",
        "outputId": "347e5343-734e-46ac-d93a-6bcea71b35c1"
      },
      "execution_count": 120,
      "outputs": [
        {
          "output_type": "stream",
          "name": "stdout",
          "text": [
            "+----------+-------+-------+-------+\n",
            "|   fx_date|CHF_USD|EUR_USD|JPY_USD|\n",
            "+----------+-------+-------+-------+\n",
            "|2022-01-09|1.08667|   null|0.00871|\n",
            "|2022-01-07|1.08667|1.15065|0.00871|\n",
            "|2022-01-04|1.08453|1.14993|0.00856|\n",
            "|2022-01-02|1.08246|1.14898|   null|\n",
            "|2022-01-01|1.08345|1.14508|0.00889|\n",
            "+----------+-------+-------+-------+\n",
            "\n"
          ]
        }
      ]
    },
    {
      "cell_type": "code",
      "source": [
        "from pyspark.sql import functions as f, Window"
      ],
      "metadata": {
        "id": "0L3MiX-oGtha"
      },
      "execution_count": 121,
      "outputs": []
    },
    {
      "cell_type": "code",
      "source": [
        "spark.conf.set(\"spark.sql.execution.arrow.pyspark.enabled\", \"true\")"
      ],
      "metadata": {
        "id": "hLyO64TTNLO4"
      },
      "execution_count": 122,
      "outputs": []
    },
    {
      "cell_type": "code",
      "source": [
        "max_date = df.agg({\"fx_date\": \"max\"}).collect()[0][0]\n",
        "min_date = df.agg({\"fx_date\": \"min\"}).collect()[0][0]\n",
        "print(max_date)"
      ],
      "metadata": {
        "colab": {
          "base_uri": "https://localhost:8080/",
          "height": 0
        },
        "id": "fV2us8_wOQ-X",
        "outputId": "947d80e7-2729-49bd-8ee5-0a04ea14bf91"
      },
      "execution_count": 123,
      "outputs": [
        {
          "output_type": "stream",
          "name": "stdout",
          "text": [
            "2022-01-09\n"
          ]
        }
      ]
    },
    {
      "cell_type": "code",
      "source": [
        "import pandas as pd\n",
        "\n",
        "df_dates = pd.DataFrame(pd.date_range(start=min_date, end=max_date),columns=['date'])\n",
        "df_dates.head()\n",
        "spark_dates = spark.createDataFrame(df_dates)\n",
        "spark_dates = spark_dates.withColumn(\"date\",f.to_date('date'))\n",
        "\n",
        "spark_dates.show()"
      ],
      "metadata": {
        "colab": {
          "base_uri": "https://localhost:8080/",
          "height": 0
        },
        "id": "rz3hxx6DIYsQ",
        "outputId": "2f82d815-03d1-4847-b9f7-2baf59f98d1a"
      },
      "execution_count": 124,
      "outputs": [
        {
          "output_type": "stream",
          "name": "stdout",
          "text": [
            "+----------+\n",
            "|      date|\n",
            "+----------+\n",
            "|2022-01-01|\n",
            "|2022-01-02|\n",
            "|2022-01-03|\n",
            "|2022-01-04|\n",
            "|2022-01-05|\n",
            "|2022-01-06|\n",
            "|2022-01-07|\n",
            "|2022-01-08|\n",
            "|2022-01-09|\n",
            "+----------+\n",
            "\n"
          ]
        }
      ]
    },
    {
      "cell_type": "code",
      "source": [
        "df_join= spark_dates.join(df, spark_dates.date == df.fx_date, 'left').drop('fx_date').withColumnRenamed('date','fx_date')\n",
        "df_join.show()"
      ],
      "metadata": {
        "colab": {
          "base_uri": "https://localhost:8080/",
          "height": 0
        },
        "id": "v6ilWtogMg9v",
        "outputId": "ad340711-1177-49f6-a5a2-22422a098d42"
      },
      "execution_count": 125,
      "outputs": [
        {
          "output_type": "stream",
          "name": "stdout",
          "text": [
            "+----------+-------+-------+-------+\n",
            "|   fx_date|CHF_USD|EUR_USD|JPY_USD|\n",
            "+----------+-------+-------+-------+\n",
            "|2022-01-01|1.08345|1.14508|0.00889|\n",
            "|2022-01-02|1.08246|1.14898|   null|\n",
            "|2022-01-03|   null|   null|   null|\n",
            "|2022-01-04|1.08453|1.14993|0.00856|\n",
            "|2022-01-05|   null|   null|   null|\n",
            "|2022-01-06|   null|   null|   null|\n",
            "|2022-01-07|1.08667|1.15065|0.00871|\n",
            "|2022-01-08|   null|   null|   null|\n",
            "|2022-01-09|1.08667|   null|0.00871|\n",
            "+----------+-------+-------+-------+\n",
            "\n"
          ]
        }
      ]
    },
    {
      "cell_type": "code",
      "source": [
        "\n",
        "window_last = Window.orderBy(\"fx_date\")\n",
        "df_2 = df_join\n",
        "for col in df.columns[1:]:\n",
        "  df_2 = df_2.withColumn(col, f.last(col, ignorenulls=True).over(window_last))\n",
        "\n",
        "\n",
        "# lets assume that all the exanges are with USD so always is XXX_USD\n",
        "df_2 = df_2.toDF(*(c.replace('_USD', '') for c in df.columns))\n",
        "df_2.show()\n"
      ],
      "metadata": {
        "colab": {
          "base_uri": "https://localhost:8080/",
          "height": 0
        },
        "id": "a0hZfKp8Qc5f",
        "outputId": "f2223988-b4ad-483f-8d28-051e16e63c0f"
      },
      "execution_count": 126,
      "outputs": [
        {
          "output_type": "stream",
          "name": "stdout",
          "text": [
            "+----------+-------+-------+-------+\n",
            "|   fx_date|    CHF|    EUR|    JPY|\n",
            "+----------+-------+-------+-------+\n",
            "|2022-01-01|1.08345|1.14508|0.00889|\n",
            "|2022-01-02|1.08246|1.14898|0.00889|\n",
            "|2022-01-03|1.08246|1.14898|0.00889|\n",
            "|2022-01-04|1.08453|1.14993|0.00856|\n",
            "|2022-01-05|1.08453|1.14993|0.00856|\n",
            "|2022-01-06|1.08453|1.14993|0.00856|\n",
            "|2022-01-07|1.08667|1.15065|0.00871|\n",
            "|2022-01-08|1.08667|1.15065|0.00871|\n",
            "|2022-01-09|1.08667|1.15065|0.00871|\n",
            "+----------+-------+-------+-------+\n",
            "\n"
          ]
        }
      ]
    },
    {
      "cell_type": "markdown",
      "source": [
        "For each customer we would like to know the total balance that they own in all their accounts (i.e. the\n",
        "sum of all the balances) in USD (eventually converted using today's exchange rate).\n",
        "Task: create a dataframe with two columns: customer_id and tot_USD_balance containing the\n",
        "requested information\n"
      ],
      "metadata": {
        "id": "Q6lnij-ESFTE"
      }
    },
    {
      "cell_type": "code",
      "source": [
        "accounts = spark.read.csv('accounts.csv',header=True, inferSchema=True)\n",
        "accounts.show()"
      ],
      "metadata": {
        "colab": {
          "base_uri": "https://localhost:8080/",
          "height": 0
        },
        "id": "XiScw1sQSBvB",
        "outputId": "5bec9dbe-f3a5-45ab-d870-5f1cb2891696"
      },
      "execution_count": 127,
      "outputs": [
        {
          "output_type": "stream",
          "name": "stdout",
          "text": [
            "+----------+-----------+--------+----------+\n",
            "|account_id|customer_id|currency|   balance|\n",
            "+----------+-----------+--------+----------+\n",
            "|         1|         10|     EUR| 108999.21|\n",
            "|         2|         10|     CHF|8910772.81|\n",
            "|         3|         27|     USD|  189000.0|\n",
            "|         4|        899|     JPY| 3587612.0|\n",
            "|         5|         54|     USD|   87688.0|\n",
            "|         6|         23|     CHF| 124000.49|\n",
            "|         8|         89|     EUR|  34559.89|\n",
            "|         9|        190|     EUR| 458089.77|\n",
            "|        10|        190|     USD|       0.0|\n",
            "+----------+-----------+--------+----------+\n",
            "\n"
          ]
        }
      ]
    },
    {
      "cell_type": "code",
      "source": [
        "df_2.createOrReplaceTempView(\"rates\")"
      ],
      "metadata": {
        "id": "DUOJeqVCUR3E"
      },
      "execution_count": 128,
      "outputs": []
    },
    {
      "cell_type": "code",
      "source": [
        "print(max_date)\n",
        "current_fx_pd = spark.sql(f\"SELECT * FROM rates WHERE fx_date ='{max_date}'\").drop('fx_date').toPandas()\n",
        "current_fx_pd['USD'] = 1\n",
        "current_fx_pd.head()"
      ],
      "metadata": {
        "colab": {
          "base_uri": "https://localhost:8080/",
          "height": 96
        },
        "id": "TuGAHwTzXXfa",
        "outputId": "0c884f7d-c7b6-42be-89f7-66d3fa9173df"
      },
      "execution_count": 129,
      "outputs": [
        {
          "output_type": "stream",
          "name": "stdout",
          "text": [
            "2022-01-09\n"
          ]
        },
        {
          "output_type": "execute_result",
          "data": {
            "text/html": [
              "\n",
              "  <div id=\"df-7957625e-cdb8-46c6-b796-a148f763f024\">\n",
              "    <div class=\"colab-df-container\">\n",
              "      <div>\n",
              "<style scoped>\n",
              "    .dataframe tbody tr th:only-of-type {\n",
              "        vertical-align: middle;\n",
              "    }\n",
              "\n",
              "    .dataframe tbody tr th {\n",
              "        vertical-align: top;\n",
              "    }\n",
              "\n",
              "    .dataframe thead th {\n",
              "        text-align: right;\n",
              "    }\n",
              "</style>\n",
              "<table border=\"1\" class=\"dataframe\">\n",
              "  <thead>\n",
              "    <tr style=\"text-align: right;\">\n",
              "      <th></th>\n",
              "      <th>CHF</th>\n",
              "      <th>EUR</th>\n",
              "      <th>JPY</th>\n",
              "      <th>USD</th>\n",
              "    </tr>\n",
              "  </thead>\n",
              "  <tbody>\n",
              "    <tr>\n",
              "      <th>0</th>\n",
              "      <td>1.08667</td>\n",
              "      <td>1.15065</td>\n",
              "      <td>0.00871</td>\n",
              "      <td>1</td>\n",
              "    </tr>\n",
              "  </tbody>\n",
              "</table>\n",
              "</div>\n",
              "      <button class=\"colab-df-convert\" onclick=\"convertToInteractive('df-7957625e-cdb8-46c6-b796-a148f763f024')\"\n",
              "              title=\"Convert this dataframe to an interactive table.\"\n",
              "              style=\"display:none;\">\n",
              "        \n",
              "  <svg xmlns=\"http://www.w3.org/2000/svg\" height=\"24px\"viewBox=\"0 0 24 24\"\n",
              "       width=\"24px\">\n",
              "    <path d=\"M0 0h24v24H0V0z\" fill=\"none\"/>\n",
              "    <path d=\"M18.56 5.44l.94 2.06.94-2.06 2.06-.94-2.06-.94-.94-2.06-.94 2.06-2.06.94zm-11 1L8.5 8.5l.94-2.06 2.06-.94-2.06-.94L8.5 2.5l-.94 2.06-2.06.94zm10 10l.94 2.06.94-2.06 2.06-.94-2.06-.94-.94-2.06-.94 2.06-2.06.94z\"/><path d=\"M17.41 7.96l-1.37-1.37c-.4-.4-.92-.59-1.43-.59-.52 0-1.04.2-1.43.59L10.3 9.45l-7.72 7.72c-.78.78-.78 2.05 0 2.83L4 21.41c.39.39.9.59 1.41.59.51 0 1.02-.2 1.41-.59l7.78-7.78 2.81-2.81c.8-.78.8-2.07 0-2.86zM5.41 20L4 18.59l7.72-7.72 1.47 1.35L5.41 20z\"/>\n",
              "  </svg>\n",
              "      </button>\n",
              "      \n",
              "  <style>\n",
              "    .colab-df-container {\n",
              "      display:flex;\n",
              "      flex-wrap:wrap;\n",
              "      gap: 12px;\n",
              "    }\n",
              "\n",
              "    .colab-df-convert {\n",
              "      background-color: #E8F0FE;\n",
              "      border: none;\n",
              "      border-radius: 50%;\n",
              "      cursor: pointer;\n",
              "      display: none;\n",
              "      fill: #1967D2;\n",
              "      height: 32px;\n",
              "      padding: 0 0 0 0;\n",
              "      width: 32px;\n",
              "    }\n",
              "\n",
              "    .colab-df-convert:hover {\n",
              "      background-color: #E2EBFA;\n",
              "      box-shadow: 0px 1px 2px rgba(60, 64, 67, 0.3), 0px 1px 3px 1px rgba(60, 64, 67, 0.15);\n",
              "      fill: #174EA6;\n",
              "    }\n",
              "\n",
              "    [theme=dark] .colab-df-convert {\n",
              "      background-color: #3B4455;\n",
              "      fill: #D2E3FC;\n",
              "    }\n",
              "\n",
              "    [theme=dark] .colab-df-convert:hover {\n",
              "      background-color: #434B5C;\n",
              "      box-shadow: 0px 1px 3px 1px rgba(0, 0, 0, 0.15);\n",
              "      filter: drop-shadow(0px 1px 2px rgba(0, 0, 0, 0.3));\n",
              "      fill: #FFFFFF;\n",
              "    }\n",
              "  </style>\n",
              "\n",
              "      <script>\n",
              "        const buttonEl =\n",
              "          document.querySelector('#df-7957625e-cdb8-46c6-b796-a148f763f024 button.colab-df-convert');\n",
              "        buttonEl.style.display =\n",
              "          google.colab.kernel.accessAllowed ? 'block' : 'none';\n",
              "\n",
              "        async function convertToInteractive(key) {\n",
              "          const element = document.querySelector('#df-7957625e-cdb8-46c6-b796-a148f763f024');\n",
              "          const dataTable =\n",
              "            await google.colab.kernel.invokeFunction('convertToInteractive',\n",
              "                                                     [key], {});\n",
              "          if (!dataTable) return;\n",
              "\n",
              "          const docLinkHtml = 'Like what you see? Visit the ' +\n",
              "            '<a target=\"_blank\" href=https://colab.research.google.com/notebooks/data_table.ipynb>data table notebook</a>'\n",
              "            + ' to learn more about interactive tables.';\n",
              "          element.innerHTML = '';\n",
              "          dataTable['output_type'] = 'display_data';\n",
              "          await google.colab.output.renderOutput(dataTable, element);\n",
              "          const docLink = document.createElement('div');\n",
              "          docLink.innerHTML = docLinkHtml;\n",
              "          element.appendChild(docLink);\n",
              "        }\n",
              "      </script>\n",
              "    </div>\n",
              "  </div>\n",
              "  "
            ],
            "text/plain": [
              "       CHF      EUR      JPY  USD\n",
              "0  1.08667  1.15065  0.00871    1"
            ]
          },
          "metadata": {},
          "execution_count": 129
        }
      ]
    },
    {
      "cell_type": "code",
      "source": [
        "#Traspose the table\n",
        "\n",
        "current_fx_pd = current_fx_pd.T\n",
        "current_fx_pd.reset_index(level=0, inplace=True)\n",
        "current_fx_pd.head()\n",
        "\n",
        "current_fx = spark.createDataFrame(current_fx_pd)\n",
        "current_fx = current_fx.withColumnRenamed('index','currency_name')\n",
        "current_fx = current_fx.withColumnRenamed('0','rate')\n",
        "current_fx.show()"
      ],
      "metadata": {
        "colab": {
          "base_uri": "https://localhost:8080/",
          "height": 0
        },
        "id": "s5ei3Q3zdTkO",
        "outputId": "39bed69b-70f7-46a2-d56a-d18d59ecdada"
      },
      "execution_count": 130,
      "outputs": [
        {
          "output_type": "stream",
          "name": "stdout",
          "text": [
            "+-------------+-------+\n",
            "|currency_name|   rate|\n",
            "+-------------+-------+\n",
            "|          CHF|1.08667|\n",
            "|          EUR|1.15065|\n",
            "|          JPY|0.00871|\n",
            "|          USD|    1.0|\n",
            "+-------------+-------+\n",
            "\n"
          ]
        }
      ]
    },
    {
      "cell_type": "code",
      "source": [
        "account_joined = accounts.join(current_fx, accounts.currency == current_fx.currency_name, 'left')\n",
        "account_joined.show()"
      ],
      "metadata": {
        "colab": {
          "base_uri": "https://localhost:8080/",
          "height": 0
        },
        "id": "uxiqWf6REc_b",
        "outputId": "17564702-9a24-4c51-98c1-b55722fd6603"
      },
      "execution_count": 131,
      "outputs": [
        {
          "output_type": "stream",
          "name": "stdout",
          "text": [
            "+----------+-----------+--------+----------+-------------+-------+\n",
            "|account_id|customer_id|currency|   balance|currency_name|   rate|\n",
            "+----------+-----------+--------+----------+-------------+-------+\n",
            "|         2|         10|     CHF|8910772.81|          CHF|1.08667|\n",
            "|         6|         23|     CHF| 124000.49|          CHF|1.08667|\n",
            "|         1|         10|     EUR| 108999.21|          EUR|1.15065|\n",
            "|         8|         89|     EUR|  34559.89|          EUR|1.15065|\n",
            "|         9|        190|     EUR| 458089.77|          EUR|1.15065|\n",
            "|         4|        899|     JPY| 3587612.0|          JPY|0.00871|\n",
            "|         3|         27|     USD|  189000.0|          USD|    1.0|\n",
            "|         5|         54|     USD|   87688.0|          USD|    1.0|\n",
            "|        10|        190|     USD|       0.0|          USD|    1.0|\n",
            "+----------+-----------+--------+----------+-------------+-------+\n",
            "\n"
          ]
        }
      ]
    },
    {
      "cell_type": "code",
      "source": [
        "account_joined.createOrReplaceTempView(\"accounts\")"
      ],
      "metadata": {
        "id": "-vmd5WteTfh1"
      },
      "execution_count": 132,
      "outputs": []
    },
    {
      "cell_type": "code",
      "source": [
        "spark.sql(\"\"\"\n",
        "\n",
        "select customer_id, sum(balance * rate) as usd_balance\n",
        "from accounts\n",
        "group by customer_id\n",
        "\n",
        "\n",
        "\"\"\").show()"
      ],
      "metadata": {
        "colab": {
          "base_uri": "https://localhost:8080/",
          "height": 0
        },
        "id": "Z4N4ZkgvQvpA",
        "outputId": "81ec024e-7e3c-427b-be99-c83706f65258"
      },
      "execution_count": 106,
      "outputs": [
        {
          "output_type": "stream",
          "name": "stdout",
          "text": [
            "+-----------+------------------+\n",
            "|customer_id|       usd_balance|\n",
            "+-----------+------------------+\n",
            "|         27|          189000.0|\n",
            "|        190|    527100.9938505|\n",
            "|         54|           87688.0|\n",
            "|         23|    134747.6124683|\n",
            "|         10|   9808489.4304292|\n",
            "|        899|31248.100520000004|\n",
            "|         89|39766.337428499995|\n",
            "+-----------+------------------+\n",
            "\n"
          ]
        }
      ]
    },
    {
      "cell_type": "code",
      "source": [
        "# THIS is if we dont add USD as 1 in the conversion\n",
        "\n",
        "spark.sql(\"\"\"\n",
        "with fix_balance as \n",
        "(\n",
        "  select * , case when currency = 'USD' then balance\n",
        "            else balance * rate\n",
        "            END as usd_balance\n",
        "  from accounts \n",
        ")\n",
        "select customer_id, round(sum(usd_balance),2) as usd_balance\n",
        "from fix_balance\n",
        "group by customer_id\n",
        "\n",
        "\"\"\").show()"
      ],
      "metadata": {
        "colab": {
          "base_uri": "https://localhost:8080/",
          "height": 0
        },
        "id": "e5Ng6947THJ3",
        "outputId": "b42d4fe3-c296-4207-8898-e4e24774781a"
      },
      "execution_count": 133,
      "outputs": [
        {
          "output_type": "stream",
          "name": "stdout",
          "text": [
            "+-----------+-----------+\n",
            "|customer_id|usd_balance|\n",
            "+-----------+-----------+\n",
            "|         27|   189000.0|\n",
            "|        190|  527100.99|\n",
            "|         54|    87688.0|\n",
            "|         23|  134747.61|\n",
            "|         10| 9808489.43|\n",
            "|        899|    31248.1|\n",
            "|         89|   39766.34|\n",
            "+-----------+-----------+\n",
            "\n"
          ]
        }
      ]
    },
    {
      "cell_type": "markdown",
      "source": [
        "Exercise 3 (bonus):\n",
        "\n",
        "For each customer we would like to know the total balance that they own in all their accounts (i.e. the\n",
        "sum of all the balances) in their local currency (eventually converted using today's exchange rate)."
      ],
      "metadata": {
        "id": "7job2cHdIRMp"
      }
    },
    {
      "cell_type": "code",
      "source": [
        "customers = spark.read.csv('customers.csv',header=True, inferSchema=True)\n",
        "customers.show()"
      ],
      "metadata": {
        "colab": {
          "base_uri": "https://localhost:8080/",
          "height": 0
        },
        "id": "T5Ndz1SZTjGm",
        "outputId": "cdd587db-41d8-4ffe-d4da-7a0860240585"
      },
      "execution_count": 134,
      "outputs": [
        {
          "output_type": "stream",
          "name": "stdout",
          "text": [
            "+-----------+------+---------+----------+-------------+\n",
            "|customer_id|  name|  surname|country_id|date_of_birth|\n",
            "+-----------+------+---------+----------+-------------+\n",
            "|          1|  Enzo|  Ferrari|        IT|   1980-01-01|\n",
            "|         27|  John|      Doe|        US|   1990-01-01|\n",
            "|          3|George|    Black|        UK|   1970-01-01|\n",
            "|         23|Alvaro|  Sanchez|        JP|   1964-01-01|\n",
            "|         54| Louis|   Dupont|        FR|   1980-01-01|\n",
            "|          6|  John|    White|        US|   1977-01-01|\n",
            "|        190|Thomas|Schneider|        CH|   1978-01-01|\n",
            "|         10| Ramon|   Blanco|        ES|   1983-01-01|\n",
            "|        899|  Emma|  Laurent|        FR|   1985-01-01|\n",
            "|         89|Oliver|     Lahm|        DE|   1950-01-01|\n",
            "+-----------+------+---------+----------+-------------+\n",
            "\n"
          ]
        }
      ]
    },
    {
      "cell_type": "code",
      "source": [
        "dict_currency = spark.read.csv('dict_currency.csv',header=True, inferSchema=True)\n",
        "dict_currency.show()"
      ],
      "metadata": {
        "colab": {
          "base_uri": "https://localhost:8080/",
          "height": 0
        },
        "id": "_87ZN83tJQVF",
        "outputId": "d85c8dd1-1ace-43c6-c0af-7bc929004530"
      },
      "execution_count": 135,
      "outputs": [
        {
          "output_type": "stream",
          "name": "stdout",
          "text": [
            "+-------+---------+\n",
            "|country|local_cur|\n",
            "+-------+---------+\n",
            "|     IT|      EUR|\n",
            "|     FR|      EUR|\n",
            "|     DE|      EUR|\n",
            "|     ES|      EUR|\n",
            "|     CH|      CHF|\n",
            "|     US|      USD|\n",
            "|     JP|      JPY|\n",
            "+-------+---------+\n",
            "\n"
          ]
        }
      ]
    },
    {
      "cell_type": "code",
      "source": [
        "acc_cust = accounts.join(customers, accounts.customer_id == customers.customer_id, 'left').drop(customers.customer_id)\n",
        "acc_local = acc_cust.join(dict_currency, acc_cust.country_id == dict_currency.country, 'left').drop(dict_currency.country)\n",
        "acc_fx = acc_local.join(current_fx, acc_local.currency == current_fx.currency_name, 'left').drop(current_fx.currency_name).withColumnRenamed('rate','usd_rate')\n",
        "acc_fx_local = acc_fx.join(current_fx, acc_fx.local_cur == current_fx.currency_name, 'left').drop(current_fx.currency_name).withColumnRenamed('rate','usd_local')\\\n",
        "              .withColumn('usd_balance', f.col('balance') * f.col('usd_rate'))\\\n",
        "              .withColumn('local_balance', f.col('usd_balance') / f.col('usd_local'))\n",
        "                    \n",
        "acc_fx_local.show()"
      ],
      "metadata": {
        "colab": {
          "base_uri": "https://localhost:8080/",
          "height": 0
        },
        "id": "lJFFECvJJg5c",
        "outputId": "fff8d6f1-7df8-43a5-a6b3-72b5289c1a9e"
      },
      "execution_count": 143,
      "outputs": [
        {
          "output_type": "stream",
          "name": "stdout",
          "text": [
            "+----------+-----------+--------+----------+------+---------+----------+-------------+---------+--------+---------+------------------+--------------------+\n",
            "|account_id|customer_id|currency|   balance|  name|  surname|country_id|date_of_birth|local_cur|usd_rate|usd_local|       usd_balance|       local_balance|\n",
            "+----------+-----------+--------+----------+------+---------+----------+-------------+---------+--------+---------+------------------+--------------------+\n",
            "|         9|        190|     EUR| 458089.77|Thomas|Schneider|        CH|   1978-01-01|      CHF| 1.15065|  1.08667|    527100.9938505|   485060.7763631093|\n",
            "|        10|        190|     USD|       0.0|Thomas|Schneider|        CH|   1978-01-01|      CHF|     1.0|  1.08667|               0.0|                 0.0|\n",
            "|         2|         10|     CHF|8910772.81| Ramon|   Blanco|        ES|   1983-01-01|      EUR| 1.08667|  1.15065|   9683069.4894427|   8415303.949457003|\n",
            "|         1|         10|     EUR| 108999.21| Ramon|   Blanco|        ES|   1983-01-01|      EUR| 1.15065|  1.15065|    125419.9409865|           108999.21|\n",
            "|         8|         89|     EUR|  34559.89|Oliver|     Lahm|        DE|   1950-01-01|      EUR| 1.15065|  1.15065|39766.337428499995|            34559.89|\n",
            "|         4|        899|     JPY| 3587612.0|  Emma|  Laurent|        FR|   1985-01-01|      EUR| 0.00871|  1.15065|31248.100520000004|  27156.911762916618|\n",
            "|         5|         54|     USD|   87688.0| Louis|   Dupont|        FR|   1980-01-01|      EUR|     1.0|  1.15065|           87688.0|   76207.36105679399|\n",
            "|         6|         23|     CHF| 124000.49|Alvaro|  Sanchez|        JP|   1964-01-01|      JPY| 1.08667|  0.00871|    134747.6124683|1.5470449192686567E7|\n",
            "|         3|         27|     USD|  189000.0|  John|      Doe|        US|   1990-01-01|      USD|     1.0|      1.0|          189000.0|            189000.0|\n",
            "+----------+-----------+--------+----------+------+---------+----------+-------------+---------+--------+---------+------------------+--------------------+\n",
            "\n"
          ]
        }
      ]
    },
    {
      "cell_type": "code",
      "source": [
        "acc_fx_local.createOrReplaceTempView(\"fact_table\")"
      ],
      "metadata": {
        "id": "eW1MoapSJ5q1"
      },
      "execution_count": 114,
      "outputs": []
    },
    {
      "cell_type": "code",
      "source": [
        "spark.sql(\"\"\"\n",
        "SELECT customer_id, local_cur, cast(sum(local_balance) as decimal(38,2)) as tot_balance\n",
        "FROM fact_table\n",
        "GROUP BY customer_id, local_cur\n",
        "\"\"\").show()"
      ],
      "metadata": {
        "colab": {
          "base_uri": "https://localhost:8080/",
          "height": 0
        },
        "id": "YRL-gh2oSNLk",
        "outputId": "b723587b-4ced-4f2c-deda-0a141635c29d"
      },
      "execution_count": 145,
      "outputs": [
        {
          "output_type": "stream",
          "name": "stdout",
          "text": [
            "+-----------+---------+-----------+\n",
            "|customer_id|local_cur|tot_balance|\n",
            "+-----------+---------+-----------+\n",
            "|        190|      CHF|  485060.78|\n",
            "|         10|      EUR| 8524303.16|\n",
            "|         89|      EUR|   34559.89|\n",
            "|        899|      EUR|   27156.91|\n",
            "|         54|      EUR|   76207.36|\n",
            "|         23|      JPY|15470449.19|\n",
            "|         27|      USD|  189000.00|\n",
            "+-----------+---------+-----------+\n",
            "\n"
          ]
        }
      ]
    },
    {
      "cell_type": "code",
      "source": [
        ""
      ],
      "metadata": {
        "id": "x0y3LUHKShgE"
      },
      "execution_count": null,
      "outputs": []
    }
  ]
}